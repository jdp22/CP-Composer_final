{
 "cells": [
  {
   "cell_type": "code",
   "execution_count": 24,
   "metadata": {},
   "outputs": [
    {
     "name": "stderr",
     "output_type": "stream",
     "text": [
      "  0%|          | 0/4612 [00:00<?, ?it/s]"
     ]
    },
    {
     "name": "stderr",
     "output_type": "stream",
     "text": [
      "100%|██████████| 4612/4612 [02:51<00:00, 26.92it/s]\n",
      "  5%|▌         | 5/93 [00:00<00:05, 16.93it/s]"
     ]
    },
    {
     "name": "stdout",
     "output_type": "stream",
     "text": [
      "Unknown residue HOH in /data/private/jdp/PepGLAD/datasets/LNR/pdbs/1d4t.pdb\n",
      "Unknown residue HOH in /data/private/jdp/PepGLAD/datasets/LNR/pdbs/1d4t.pdb\n",
      "Unknown residue HOH in /data/private/jdp/PepGLAD/datasets/LNR/pdbs/1d4t.pdb\n",
      "Unknown residue HOH in /data/private/jdp/PepGLAD/datasets/LNR/pdbs/1d4t.pdb\n",
      "Unknown residue HOH in /data/private/jdp/PepGLAD/datasets/LNR/pdbs/1d4t.pdb\n",
      "Unknown residue HOH in /data/private/jdp/PepGLAD/datasets/LNR/pdbs/1d4t.pdb\n",
      "Unknown residue HOH in /data/private/jdp/PepGLAD/datasets/LNR/pdbs/1d4t.pdb\n",
      "Unknown residue HOH in /data/private/jdp/PepGLAD/datasets/LNR/pdbs/1d4t.pdb\n",
      "Unknown residue HOH in /data/private/jdp/PepGLAD/datasets/LNR/pdbs/1d4t.pdb\n",
      "Unknown residue HOH in /data/private/jdp/PepGLAD/datasets/LNR/pdbs/1d4t.pdb\n",
      "Unknown residue HOH in /data/private/jdp/PepGLAD/datasets/LNR/pdbs/1d4t.pdb\n",
      "Unknown residue HOH in /data/private/jdp/PepGLAD/datasets/LNR/pdbs/1d4t.pdb\n",
      "Unknown residue HOH in /data/private/jdp/PepGLAD/datasets/LNR/pdbs/1d4t.pdb\n",
      "Unknown residue HOH in /data/private/jdp/PepGLAD/datasets/LNR/pdbs/1d4t.pdb\n",
      "Unknown residue HOH in /data/private/jdp/PepGLAD/datasets/LNR/pdbs/1d4t.pdb\n",
      "Unknown residue HOH in /data/private/jdp/PepGLAD/datasets/LNR/pdbs/1d4t.pdb\n",
      "Unknown residue HOH in /data/private/jdp/PepGLAD/datasets/LNR/pdbs/1d4t.pdb\n",
      "Unknown residue HOH in /data/private/jdp/PepGLAD/datasets/LNR/pdbs/1d4t.pdb\n",
      "Unknown residue HOH in /data/private/jdp/PepGLAD/datasets/LNR/pdbs/1d4t.pdb\n",
      "Unknown residue HOH in /data/private/jdp/PepGLAD/datasets/LNR/pdbs/1d4t.pdb\n",
      "Unknown residue HOH in /data/private/jdp/PepGLAD/datasets/LNR/pdbs/1d4t.pdb\n",
      "Unknown residue HOH in /data/private/jdp/PepGLAD/datasets/LNR/pdbs/1d4t.pdb\n",
      "Unknown residue HOH in /data/private/jdp/PepGLAD/datasets/LNR/pdbs/1d4t.pdb\n",
      "Unknown residue HOH in /data/private/jdp/PepGLAD/datasets/LNR/pdbs/1d4t.pdb\n",
      "Unknown residue HOH in /data/private/jdp/PepGLAD/datasets/LNR/pdbs/1d4t.pdb\n",
      "Unknown residue HOH in /data/private/jdp/PepGLAD/datasets/LNR/pdbs/1d4t.pdb\n",
      "Unknown residue HOH in /data/private/jdp/PepGLAD/datasets/LNR/pdbs/1d4t.pdb\n",
      "Unknown residue HOH in /data/private/jdp/PepGLAD/datasets/LNR/pdbs/1d4t.pdb\n",
      "Unknown residue HOH in /data/private/jdp/PepGLAD/datasets/LNR/pdbs/1d4t.pdb\n",
      "Unknown residue HOH in /data/private/jdp/PepGLAD/datasets/LNR/pdbs/1d4t.pdb\n",
      "Unknown residue HOH in /data/private/jdp/PepGLAD/datasets/LNR/pdbs/1d4t.pdb\n",
      "Unknown residue HOH in /data/private/jdp/PepGLAD/datasets/LNR/pdbs/1d4t.pdb\n",
      "Unknown residue HOH in /data/private/jdp/PepGLAD/datasets/LNR/pdbs/1d4t.pdb\n",
      "Unknown residue HOH in /data/private/jdp/PepGLAD/datasets/LNR/pdbs/1d4t.pdb\n",
      "Unknown residue HOH in /data/private/jdp/PepGLAD/datasets/LNR/pdbs/1d4t.pdb\n",
      "Unknown residue HOH in /data/private/jdp/PepGLAD/datasets/LNR/pdbs/1d4t.pdb\n",
      "Unknown residue HOH in /data/private/jdp/PepGLAD/datasets/LNR/pdbs/1ee5.pdb\n",
      "Unknown residue HOH in /data/private/jdp/PepGLAD/datasets/LNR/pdbs/1ee5.pdb\n",
      "Unknown residue HOH in /data/private/jdp/PepGLAD/datasets/LNR/pdbs/1ee5.pdb\n",
      "Unknown residue HOH in /data/private/jdp/PepGLAD/datasets/LNR/pdbs/1ee5.pdb\n",
      "Unknown residue ACE in /data/private/jdp/PepGLAD/datasets/LNR/pdbs/1elr.pdb\n",
      "Unknown residue HOH in /data/private/jdp/PepGLAD/datasets/LNR/pdbs/1elr.pdb\n",
      "Unknown residue HOH in /data/private/jdp/PepGLAD/datasets/LNR/pdbs/1elr.pdb\n",
      "Unknown residue HOH in /data/private/jdp/PepGLAD/datasets/LNR/pdbs/1elr.pdb\n",
      "Unknown residue HOH in /data/private/jdp/PepGLAD/datasets/LNR/pdbs/1elr.pdb\n",
      "Unknown residue HOH in /data/private/jdp/PepGLAD/datasets/LNR/pdbs/1elr.pdb\n",
      "Unknown residue HOH in /data/private/jdp/PepGLAD/datasets/LNR/pdbs/1elr.pdb\n",
      "Unknown residue HOH in /data/private/jdp/PepGLAD/datasets/LNR/pdbs/1elr.pdb\n",
      "Unknown residue HOH in /data/private/jdp/PepGLAD/datasets/LNR/pdbs/1elr.pdb\n",
      "Unknown residue HOH in /data/private/jdp/PepGLAD/datasets/LNR/pdbs/1elr.pdb\n",
      "Unknown residue HOH in /data/private/jdp/PepGLAD/datasets/LNR/pdbs/1elr.pdb\n",
      "Unknown residue HOH in /data/private/jdp/PepGLAD/datasets/LNR/pdbs/1elr.pdb\n",
      "Unknown residue HOH in /data/private/jdp/PepGLAD/datasets/LNR/pdbs/1elr.pdb\n",
      "Unknown residue HOH in /data/private/jdp/PepGLAD/datasets/LNR/pdbs/1elr.pdb\n",
      "Unknown residue HOH in /data/private/jdp/PepGLAD/datasets/LNR/pdbs/1fiw.pdb\n",
      "Unknown residue HOH in /data/private/jdp/PepGLAD/datasets/LNR/pdbs/1fiw.pdb\n",
      "Unknown residue HOH in /data/private/jdp/PepGLAD/datasets/LNR/pdbs/1fiw.pdb\n",
      "Unknown residue HOH in /data/private/jdp/PepGLAD/datasets/LNR/pdbs/1fiw.pdb\n",
      "Unknown residue HOH in /data/private/jdp/PepGLAD/datasets/LNR/pdbs/1fiw.pdb\n",
      "Unknown residue HOH in /data/private/jdp/PepGLAD/datasets/LNR/pdbs/1fiw.pdb\n",
      "Unknown residue HOH in /data/private/jdp/PepGLAD/datasets/LNR/pdbs/1fiw.pdb\n",
      "Unknown residue HOH in /data/private/jdp/PepGLAD/datasets/LNR/pdbs/1fiw.pdb\n",
      "Unknown residue HOH in /data/private/jdp/PepGLAD/datasets/LNR/pdbs/1fiw.pdb\n",
      "Unknown residue HOH in /data/private/jdp/PepGLAD/datasets/LNR/pdbs/1fiw.pdb\n",
      "Unknown residue ACE in /data/private/jdp/PepGLAD/datasets/LNR/pdbs/1jrr.pdb\n",
      "Unknown residue HOH in /data/private/jdp/PepGLAD/datasets/LNR/pdbs/1jrr.pdb\n",
      "Unknown residue HOH in /data/private/jdp/PepGLAD/datasets/LNR/pdbs/1jrr.pdb\n",
      "Unknown residue HOH in /data/private/jdp/PepGLAD/datasets/LNR/pdbs/1jrr.pdb\n",
      "Unknown residue HOH in /data/private/jdp/PepGLAD/datasets/LNR/pdbs/1jrr.pdb\n",
      "Unknown residue HOH in /data/private/jdp/PepGLAD/datasets/LNR/pdbs/1jrr.pdb\n",
      "Unknown residue SO4 in /data/private/jdp/PepGLAD/datasets/LNR/pdbs/1ky6.pdb\n",
      "Unknown residue HOH in /data/private/jdp/PepGLAD/datasets/LNR/pdbs/1ky6.pdb\n",
      "Unknown residue HOH in /data/private/jdp/PepGLAD/datasets/LNR/pdbs/1ky6.pdb\n",
      "Unknown residue HOH in /data/private/jdp/PepGLAD/datasets/LNR/pdbs/1ky6.pdb\n",
      "Unknown residue HOH in /data/private/jdp/PepGLAD/datasets/LNR/pdbs/1ky6.pdb\n",
      "Unknown residue HOH in /data/private/jdp/PepGLAD/datasets/LNR/pdbs/1ky6.pdb\n",
      "Unknown residue HOH in /data/private/jdp/PepGLAD/datasets/LNR/pdbs/1ky6.pdb\n",
      "Unknown residue HOH in /data/private/jdp/PepGLAD/datasets/LNR/pdbs/1ky6.pdb\n",
      "Unknown residue HOH in /data/private/jdp/PepGLAD/datasets/LNR/pdbs/1ky6.pdb\n",
      "Unknown residue HOH in /data/private/jdp/PepGLAD/datasets/LNR/pdbs/1ssc.pdb\n",
      "Unknown residue HOH in /data/private/jdp/PepGLAD/datasets/LNR/pdbs/1ssc.pdb\n",
      "Unknown residue HOH in /data/private/jdp/PepGLAD/datasets/LNR/pdbs/1ssc.pdb\n",
      "Unknown residue HOH in /data/private/jdp/PepGLAD/datasets/LNR/pdbs/1ssc.pdb\n",
      "Unknown residue HOH in /data/private/jdp/PepGLAD/datasets/LNR/pdbs/1ssc.pdb\n",
      "Unknown residue HOH in /data/private/jdp/PepGLAD/datasets/LNR/pdbs/1ssc.pdb\n",
      "Unknown residue HOH in /data/private/jdp/PepGLAD/datasets/LNR/pdbs/1ssc.pdb\n",
      "Unknown residue HOH in /data/private/jdp/PepGLAD/datasets/LNR/pdbs/1ssc.pdb\n"
     ]
    },
    {
     "name": "stderr",
     "output_type": "stream",
     "text": [
      " 15%|█▌        | 14/93 [00:00<00:03, 21.88it/s]"
     ]
    },
    {
     "name": "stdout",
     "output_type": "stream",
     "text": [
      "Unknown residue HOH in /data/private/jdp/PepGLAD/datasets/LNR/pdbs/1t3l.pdb\n",
      "Unknown residue HOH in /data/private/jdp/PepGLAD/datasets/LNR/pdbs/1t3l.pdb\n",
      "Unknown residue HOH in /data/private/jdp/PepGLAD/datasets/LNR/pdbs/1t3l.pdb\n",
      "Unknown residue HOH in /data/private/jdp/PepGLAD/datasets/LNR/pdbs/1t3l.pdb\n",
      "Unknown residue HOH in /data/private/jdp/PepGLAD/datasets/LNR/pdbs/1t3l.pdb\n",
      "Unknown residue HOH in /data/private/jdp/PepGLAD/datasets/LNR/pdbs/1t3l.pdb\n",
      "Unknown residue HOH in /data/private/jdp/PepGLAD/datasets/LNR/pdbs/1t3l.pdb\n",
      "Unknown residue HOH in /data/private/jdp/PepGLAD/datasets/LNR/pdbs/1t3l.pdb\n",
      "Unknown residue HOH in /data/private/jdp/PepGLAD/datasets/LNR/pdbs/1t4f.pdb\n",
      "Unknown residue HOH in /data/private/jdp/PepGLAD/datasets/LNR/pdbs/1t4f.pdb\n",
      "Unknown residue HOH in /data/private/jdp/PepGLAD/datasets/LNR/pdbs/1t4f.pdb\n",
      "Unknown residue HOH in /data/private/jdp/PepGLAD/datasets/LNR/pdbs/1t4f.pdb\n",
      "Unknown residue HOH in /data/private/jdp/PepGLAD/datasets/LNR/pdbs/1t4f.pdb\n",
      "Unknown residue HOH in /data/private/jdp/PepGLAD/datasets/LNR/pdbs/1t4f.pdb\n",
      "Unknown residue HOH in /data/private/jdp/PepGLAD/datasets/LNR/pdbs/1t5z.pdb\n",
      "Unknown residue HOH in /data/private/jdp/PepGLAD/datasets/LNR/pdbs/1t5z.pdb\n",
      "Unknown residue HOH in /data/private/jdp/PepGLAD/datasets/LNR/pdbs/1t5z.pdb\n",
      "Unknown residue HOH in /data/private/jdp/PepGLAD/datasets/LNR/pdbs/1t5z.pdb\n",
      "Unknown residue HOH in /data/private/jdp/PepGLAD/datasets/LNR/pdbs/1t5z.pdb\n",
      "Unknown residue HOH in /data/private/jdp/PepGLAD/datasets/LNR/pdbs/1t5z.pdb\n",
      "Unknown residue HOH in /data/private/jdp/PepGLAD/datasets/LNR/pdbs/1t5z.pdb\n",
      "Unknown residue HOH in /data/private/jdp/PepGLAD/datasets/LNR/pdbs/1t5z.pdb\n",
      "Unknown residue HOH in /data/private/jdp/PepGLAD/datasets/LNR/pdbs/1t5z.pdb\n",
      "Unknown residue HOH in /data/private/jdp/PepGLAD/datasets/LNR/pdbs/1t5z.pdb\n",
      "Unknown residue HOH in /data/private/jdp/PepGLAD/datasets/LNR/pdbs/1t5z.pdb\n",
      "Unknown residue HOH in /data/private/jdp/PepGLAD/datasets/LNR/pdbs/2cnz.pdb\n",
      "Unknown residue HOH in /data/private/jdp/PepGLAD/datasets/LNR/pdbs/2cnz.pdb\n",
      "Unknown residue HOH in /data/private/jdp/PepGLAD/datasets/LNR/pdbs/2cnz.pdb\n",
      "Unknown residue HOH in /data/private/jdp/PepGLAD/datasets/LNR/pdbs/2cnz.pdb\n",
      "Unknown residue HOH in /data/private/jdp/PepGLAD/datasets/LNR/pdbs/2cnz.pdb\n",
      "Unknown residue HOH in /data/private/jdp/PepGLAD/datasets/LNR/pdbs/2cnz.pdb\n",
      "Unknown residue HOH in /data/private/jdp/PepGLAD/datasets/LNR/pdbs/2cnz.pdb\n",
      "Unknown residue HOH in /data/private/jdp/PepGLAD/datasets/LNR/pdbs/2cnz.pdb\n",
      "Unknown residue HOH in /data/private/jdp/PepGLAD/datasets/LNR/pdbs/2cnz.pdb\n",
      "Unknown residue HOH in /data/private/jdp/PepGLAD/datasets/LNR/pdbs/2cnz.pdb\n",
      "Unknown residue HOH in /data/private/jdp/PepGLAD/datasets/LNR/pdbs/2cnz.pdb\n",
      "Unknown residue HOH in /data/private/jdp/PepGLAD/datasets/LNR/pdbs/2cnz.pdb\n",
      "Unknown residue HOH in /data/private/jdp/PepGLAD/datasets/LNR/pdbs/2cnz.pdb\n",
      "Unknown residue HOH in /data/private/jdp/PepGLAD/datasets/LNR/pdbs/2cnz.pdb\n",
      "Unknown residue HOH in /data/private/jdp/PepGLAD/datasets/LNR/pdbs/2cnz.pdb\n",
      "Unknown residue HOH in /data/private/jdp/PepGLAD/datasets/LNR/pdbs/2cnz.pdb\n",
      "Unknown residue HOH in /data/private/jdp/PepGLAD/datasets/LNR/pdbs/2cnz.pdb\n",
      "Unknown residue HOH in /data/private/jdp/PepGLAD/datasets/LNR/pdbs/2cnz.pdb\n",
      "Unknown residue HOH in /data/private/jdp/PepGLAD/datasets/LNR/pdbs/2cnz.pdb\n",
      "Unknown residue HOH in /data/private/jdp/PepGLAD/datasets/LNR/pdbs/2cnz.pdb\n",
      "Unknown residue HOH in /data/private/jdp/PepGLAD/datasets/LNR/pdbs/2cnz.pdb\n",
      "Unknown residue HOH in /data/private/jdp/PepGLAD/datasets/LNR/pdbs/2f31.pdb\n",
      "Unknown residue HOH in /data/private/jdp/PepGLAD/datasets/LNR/pdbs/2f31.pdb\n",
      "Unknown residue HOH in /data/private/jdp/PepGLAD/datasets/LNR/pdbs/2f31.pdb\n",
      "Unknown residue HOH in /data/private/jdp/PepGLAD/datasets/LNR/pdbs/2f31.pdb\n",
      "Unknown residue HOH in /data/private/jdp/PepGLAD/datasets/LNR/pdbs/2f31.pdb\n",
      "Unknown residue HOH in /data/private/jdp/PepGLAD/datasets/LNR/pdbs/2f31.pdb\n",
      "Unknown residue HOH in /data/private/jdp/PepGLAD/datasets/LNR/pdbs/2f31.pdb\n",
      "Unknown residue HOH in /data/private/jdp/PepGLAD/datasets/LNR/pdbs/2f31.pdb\n"
     ]
    },
    {
     "name": "stderr",
     "output_type": "stream",
     "text": [
      " 23%|██▎       | 21/93 [00:01<00:04, 16.78it/s]"
     ]
    },
    {
     "name": "stdout",
     "output_type": "stream",
     "text": [
      "Unknown residue HOH in /data/private/jdp/PepGLAD/datasets/LNR/pdbs/2hwl.pdb\n",
      "Unknown residue HOH in /data/private/jdp/PepGLAD/datasets/LNR/pdbs/2hwl.pdb\n",
      "Unknown residue HOH in /data/private/jdp/PepGLAD/datasets/LNR/pdbs/2hwl.pdb\n",
      "Unknown residue HOH in /data/private/jdp/PepGLAD/datasets/LNR/pdbs/2qa9.pdb\n",
      "Unknown residue HOH in /data/private/jdp/PepGLAD/datasets/LNR/pdbs/2qa9.pdb\n",
      "Unknown residue HOH in /data/private/jdp/PepGLAD/datasets/LNR/pdbs/2qa9.pdb\n",
      "Unknown residue HOH in /data/private/jdp/PepGLAD/datasets/LNR/pdbs/2qa9.pdb\n",
      "Unknown residue HOH in /data/private/jdp/PepGLAD/datasets/LNR/pdbs/2qa9.pdb\n",
      "Unknown residue HOH in /data/private/jdp/PepGLAD/datasets/LNR/pdbs/2qa9.pdb\n",
      "Unknown residue HOH in /data/private/jdp/PepGLAD/datasets/LNR/pdbs/2qa9.pdb\n",
      "Unknown residue HOH in /data/private/jdp/PepGLAD/datasets/LNR/pdbs/2qa9.pdb\n",
      "Unknown residue HOH in /data/private/jdp/PepGLAD/datasets/LNR/pdbs/2qa9.pdb\n",
      "Unknown residue HOH in /data/private/jdp/PepGLAD/datasets/LNR/pdbs/2qos.pdb\n",
      "Unknown residue HOH in /data/private/jdp/PepGLAD/datasets/LNR/pdbs/2qos.pdb\n",
      "Unknown residue HOH in /data/private/jdp/PepGLAD/datasets/LNR/pdbs/2qos.pdb\n",
      "Unknown residue HOH in /data/private/jdp/PepGLAD/datasets/LNR/pdbs/2qos.pdb\n",
      "Unknown residue HOH in /data/private/jdp/PepGLAD/datasets/LNR/pdbs/2qos.pdb\n",
      "Unknown residue HOH in /data/private/jdp/PepGLAD/datasets/LNR/pdbs/2qos.pdb\n",
      "Unknown residue HOH in /data/private/jdp/PepGLAD/datasets/LNR/pdbs/2qos.pdb\n",
      "Unknown residue HOH in /data/private/jdp/PepGLAD/datasets/LNR/pdbs/2qos.pdb\n",
      "Unknown residue HOH in /data/private/jdp/PepGLAD/datasets/LNR/pdbs/2qos.pdb\n",
      "Unknown residue HOH in /data/private/jdp/PepGLAD/datasets/LNR/pdbs/2qos.pdb\n",
      "Unknown residue HOH in /data/private/jdp/PepGLAD/datasets/LNR/pdbs/2qos.pdb\n"
     ]
    },
    {
     "name": "stderr",
     "output_type": "stream",
     "text": [
      " 26%|██▌       | 24/93 [00:01<00:05, 13.23it/s]"
     ]
    },
    {
     "name": "stdout",
     "output_type": "stream",
     "text": [
      "Unknown residue HOH in /data/private/jdp/PepGLAD/datasets/LNR/pdbs/2v8x.pdb\n",
      "Unknown residue HOH in /data/private/jdp/PepGLAD/datasets/LNR/pdbs/2v8x.pdb\n",
      "Unknown residue HOH in /data/private/jdp/PepGLAD/datasets/LNR/pdbs/2v8x.pdb\n",
      "Unknown residue HOH in /data/private/jdp/PepGLAD/datasets/LNR/pdbs/2v8x.pdb\n",
      "Unknown residue HOH in /data/private/jdp/PepGLAD/datasets/LNR/pdbs/2v8x.pdb\n",
      "Unknown residue HOH in /data/private/jdp/PepGLAD/datasets/LNR/pdbs/2v8x.pdb\n",
      "Unknown residue HOH in /data/private/jdp/PepGLAD/datasets/LNR/pdbs/2v8x.pdb\n",
      "Unknown residue HOH in /data/private/jdp/PepGLAD/datasets/LNR/pdbs/2v8x.pdb\n",
      "Unknown residue HOH in /data/private/jdp/PepGLAD/datasets/LNR/pdbs/2v8x.pdb\n",
      "Unknown residue HOH in /data/private/jdp/PepGLAD/datasets/LNR/pdbs/2v8x.pdb\n",
      "Unknown residue HOH in /data/private/jdp/PepGLAD/datasets/LNR/pdbs/2v8x.pdb\n",
      "Unknown residue HOH in /data/private/jdp/PepGLAD/datasets/LNR/pdbs/2v8x.pdb\n",
      "Unknown residue HOH in /data/private/jdp/PepGLAD/datasets/LNR/pdbs/2v8x.pdb\n",
      "Unknown residue HOH in /data/private/jdp/PepGLAD/datasets/LNR/pdbs/2v8x.pdb\n",
      "Unknown residue HOH in /data/private/jdp/PepGLAD/datasets/LNR/pdbs/2v8x.pdb\n",
      "Unknown residue HOH in /data/private/jdp/PepGLAD/datasets/LNR/pdbs/2v8x.pdb\n",
      "Unknown residue HOH in /data/private/jdp/PepGLAD/datasets/LNR/pdbs/2v8x.pdb\n",
      "Unknown residue HOH in /data/private/jdp/PepGLAD/datasets/LNR/pdbs/2v8x.pdb\n",
      "Unknown residue HOH in /data/private/jdp/PepGLAD/datasets/LNR/pdbs/2x72.pdb\n",
      "Unknown residue HOH in /data/private/jdp/PepGLAD/datasets/LNR/pdbs/2x72.pdb\n",
      "Unknown residue HOH in /data/private/jdp/PepGLAD/datasets/LNR/pdbs/2xyi.pdb\n",
      "Unknown residue HOH in /data/private/jdp/PepGLAD/datasets/LNR/pdbs/2xyi.pdb\n",
      "Unknown residue HOH in /data/private/jdp/PepGLAD/datasets/LNR/pdbs/2xyi.pdb\n",
      "Unknown residue HOH in /data/private/jdp/PepGLAD/datasets/LNR/pdbs/2xyi.pdb\n",
      "Unknown residue HOH in /data/private/jdp/PepGLAD/datasets/LNR/pdbs/2xyi.pdb\n"
     ]
    },
    {
     "name": "stderr",
     "output_type": "stream",
     "text": [
      " 34%|███▍      | 32/93 [00:02<00:04, 14.74it/s]"
     ]
    },
    {
     "name": "stdout",
     "output_type": "stream",
     "text": [
      "Unknown residue HOH in /data/private/jdp/PepGLAD/datasets/LNR/pdbs/3ayu.pdb\n",
      "Unknown residue HOH in /data/private/jdp/PepGLAD/datasets/LNR/pdbs/3ayu.pdb\n",
      "Unknown residue HOH in /data/private/jdp/PepGLAD/datasets/LNR/pdbs/3ayu.pdb\n",
      "Unknown residue HOH in /data/private/jdp/PepGLAD/datasets/LNR/pdbs/3ayu.pdb\n",
      "Unknown residue HOH in /data/private/jdp/PepGLAD/datasets/LNR/pdbs/3ayu.pdb\n",
      "Unknown residue HOH in /data/private/jdp/PepGLAD/datasets/LNR/pdbs/3ayu.pdb\n",
      "Unknown residue HOH in /data/private/jdp/PepGLAD/datasets/LNR/pdbs/3ayu.pdb\n",
      "Unknown residue HOH in /data/private/jdp/PepGLAD/datasets/LNR/pdbs/3ayu.pdb\n",
      "Unknown residue HOH in /data/private/jdp/PepGLAD/datasets/LNR/pdbs/3ayu.pdb\n",
      "Unknown residue HOH in /data/private/jdp/PepGLAD/datasets/LNR/pdbs/3ayu.pdb\n",
      "Unknown residue HOH in /data/private/jdp/PepGLAD/datasets/LNR/pdbs/3ayu.pdb\n",
      "Unknown residue HOH in /data/private/jdp/PepGLAD/datasets/LNR/pdbs/3ayu.pdb\n",
      "Unknown residue HOH in /data/private/jdp/PepGLAD/datasets/LNR/pdbs/3ayu.pdb\n",
      "Unknown residue HOH in /data/private/jdp/PepGLAD/datasets/LNR/pdbs/3ayu.pdb\n",
      "Unknown residue HOH in /data/private/jdp/PepGLAD/datasets/LNR/pdbs/3ayu.pdb\n",
      "Unknown residue HOH in /data/private/jdp/PepGLAD/datasets/LNR/pdbs/3ayu.pdb\n",
      "Unknown residue HOH in /data/private/jdp/PepGLAD/datasets/LNR/pdbs/3c3o.pdb\n"
     ]
    },
    {
     "name": "stderr",
     "output_type": "stream",
     "text": [
      " 41%|████      | 38/93 [00:02<00:03, 15.83it/s]"
     ]
    },
    {
     "name": "stdout",
     "output_type": "stream",
     "text": [
      "Unknown residue HOH in /data/private/jdp/PepGLAD/datasets/LNR/pdbs/3pkn.pdb\n",
      "Unknown residue HOH in /data/private/jdp/PepGLAD/datasets/LNR/pdbs/3pkn.pdb\n",
      "Unknown residue HOH in /data/private/jdp/PepGLAD/datasets/LNR/pdbs/3pkn.pdb\n",
      "Unknown residue HOH in /data/private/jdp/PepGLAD/datasets/LNR/pdbs/3pkn.pdb\n",
      "Unknown residue HOH in /data/private/jdp/PepGLAD/datasets/LNR/pdbs/3pkn.pdb\n",
      "Unknown residue HOH in /data/private/jdp/PepGLAD/datasets/LNR/pdbs/3pkn.pdb\n",
      "Unknown residue HOH in /data/private/jdp/PepGLAD/datasets/LNR/pdbs/3pkn.pdb\n",
      "Unknown residue HOH in /data/private/jdp/PepGLAD/datasets/LNR/pdbs/3r42.pdb\n",
      "Unknown residue HOH in /data/private/jdp/PepGLAD/datasets/LNR/pdbs/3r42.pdb\n",
      "Unknown residue HOH in /data/private/jdp/PepGLAD/datasets/LNR/pdbs/3r42.pdb\n",
      "Unknown residue HOH in /data/private/jdp/PepGLAD/datasets/LNR/pdbs/3r42.pdb\n",
      "Unknown residue HOH in /data/private/jdp/PepGLAD/datasets/LNR/pdbs/3r42.pdb\n",
      "Unknown residue HOH in /data/private/jdp/PepGLAD/datasets/LNR/pdbs/3r42.pdb\n",
      "Unknown residue HOH in /data/private/jdp/PepGLAD/datasets/LNR/pdbs/3r42.pdb\n",
      "Unknown residue HOH in /data/private/jdp/PepGLAD/datasets/LNR/pdbs/3r42.pdb\n",
      "Unknown residue HOH in /data/private/jdp/PepGLAD/datasets/LNR/pdbs/3r42.pdb\n",
      "Unknown residue HOH in /data/private/jdp/PepGLAD/datasets/LNR/pdbs/3r42.pdb\n",
      "Unknown residue HOH in /data/private/jdp/PepGLAD/datasets/LNR/pdbs/3r42.pdb\n",
      "Unknown residue HOH in /data/private/jdp/PepGLAD/datasets/LNR/pdbs/3r42.pdb\n",
      "Unknown residue HOH in /data/private/jdp/PepGLAD/datasets/LNR/pdbs/3r42.pdb\n",
      "Unknown residue HOH in /data/private/jdp/PepGLAD/datasets/LNR/pdbs/3r7g.pdb\n",
      "Unknown residue HOH in /data/private/jdp/PepGLAD/datasets/LNR/pdbs/3r7g.pdb\n",
      "Unknown residue HOH in /data/private/jdp/PepGLAD/datasets/LNR/pdbs/3r7g.pdb\n",
      "Unknown residue HOH in /data/private/jdp/PepGLAD/datasets/LNR/pdbs/3r7g.pdb\n",
      "Unknown residue HOH in /data/private/jdp/PepGLAD/datasets/LNR/pdbs/3r7g.pdb\n",
      "Unknown residue HOH in /data/private/jdp/PepGLAD/datasets/LNR/pdbs/3r7g.pdb\n"
     ]
    },
    {
     "name": "stderr",
     "output_type": "stream",
     "text": [
      " 48%|████▊     | 45/93 [00:03<00:02, 16.68it/s]"
     ]
    },
    {
     "name": "stdout",
     "output_type": "stream",
     "text": [
      "Unknown residue HOH in /data/private/jdp/PepGLAD/datasets/LNR/pdbs/3ro3.pdb\n",
      "Unknown residue HOH in /data/private/jdp/PepGLAD/datasets/LNR/pdbs/3ro3.pdb\n",
      "Unknown residue HOH in /data/private/jdp/PepGLAD/datasets/LNR/pdbs/3ro3.pdb\n",
      "Unknown residue HOH in /data/private/jdp/PepGLAD/datasets/LNR/pdbs/3ro3.pdb\n",
      "Unknown residue HOH in /data/private/jdp/PepGLAD/datasets/LNR/pdbs/3ro3.pdb\n",
      "Unknown residue HOH in /data/private/jdp/PepGLAD/datasets/LNR/pdbs/3ro3.pdb\n",
      "Unknown residue HOH in /data/private/jdp/PepGLAD/datasets/LNR/pdbs/3ro3.pdb\n",
      "Unknown residue HOH in /data/private/jdp/PepGLAD/datasets/LNR/pdbs/3ro3.pdb\n",
      "Unknown residue HOH in /data/private/jdp/PepGLAD/datasets/LNR/pdbs/3ro3.pdb\n",
      "Unknown residue HOH in /data/private/jdp/PepGLAD/datasets/LNR/pdbs/3ro3.pdb\n",
      "Unknown residue HOH in /data/private/jdp/PepGLAD/datasets/LNR/pdbs/3ro3.pdb\n",
      "Unknown residue HOH in /data/private/jdp/PepGLAD/datasets/LNR/pdbs/3ro3.pdb\n",
      "Unknown residue HOH in /data/private/jdp/PepGLAD/datasets/LNR/pdbs/3ro3.pdb\n",
      "Unknown residue HOH in /data/private/jdp/PepGLAD/datasets/LNR/pdbs/3ro3.pdb\n",
      "Unknown residue HOH in /data/private/jdp/PepGLAD/datasets/LNR/pdbs/3ro3.pdb\n",
      "Unknown residue HOH in /data/private/jdp/PepGLAD/datasets/LNR/pdbs/3ro3.pdb\n",
      "Unknown residue HOH in /data/private/jdp/PepGLAD/datasets/LNR/pdbs/3ro3.pdb\n",
      "Unknown residue HOH in /data/private/jdp/PepGLAD/datasets/LNR/pdbs/3ro3.pdb\n",
      "Unknown residue HOH in /data/private/jdp/PepGLAD/datasets/LNR/pdbs/3ro3.pdb\n",
      "Unknown residue HOH in /data/private/jdp/PepGLAD/datasets/LNR/pdbs/3ro3.pdb\n",
      "Unknown residue HOH in /data/private/jdp/PepGLAD/datasets/LNR/pdbs/3ro3.pdb\n",
      "Unknown residue HOH in /data/private/jdp/PepGLAD/datasets/LNR/pdbs/3ro3.pdb\n",
      "Unknown residue HOH in /data/private/jdp/PepGLAD/datasets/LNR/pdbs/3ro3.pdb\n",
      "Unknown residue HOH in /data/private/jdp/PepGLAD/datasets/LNR/pdbs/3ro3.pdb\n",
      "Unknown residue HOH in /data/private/jdp/PepGLAD/datasets/LNR/pdbs/3ro3.pdb\n",
      "Unknown residue HOH in /data/private/jdp/PepGLAD/datasets/LNR/pdbs/3ro3.pdb\n",
      "Unknown residue HOH in /data/private/jdp/PepGLAD/datasets/LNR/pdbs/3ro3.pdb\n",
      "Unknown residue HOH in /data/private/jdp/PepGLAD/datasets/LNR/pdbs/3ro3.pdb\n",
      "Unknown residue HOH in /data/private/jdp/PepGLAD/datasets/LNR/pdbs/3ro3.pdb\n",
      "Unknown residue HOH in /data/private/jdp/PepGLAD/datasets/LNR/pdbs/3ro3.pdb\n",
      "Unknown residue HOH in /data/private/jdp/PepGLAD/datasets/LNR/pdbs/3ro3.pdb\n",
      "Unknown residue HOH in /data/private/jdp/PepGLAD/datasets/LNR/pdbs/3ro3.pdb\n",
      "Unknown residue HOH in /data/private/jdp/PepGLAD/datasets/LNR/pdbs/3ro3.pdb\n",
      "Unknown residue HOH in /data/private/jdp/PepGLAD/datasets/LNR/pdbs/3ro3.pdb\n",
      "Unknown residue HOH in /data/private/jdp/PepGLAD/datasets/LNR/pdbs/3ro3.pdb\n",
      "Unknown residue HOH in /data/private/jdp/PepGLAD/datasets/LNR/pdbs/3ro3.pdb\n",
      "Unknown residue HOH in /data/private/jdp/PepGLAD/datasets/LNR/pdbs/3ro3.pdb\n",
      "Unknown residue HOH in /data/private/jdp/PepGLAD/datasets/LNR/pdbs/3ro3.pdb\n",
      "Unknown residue HOH in /data/private/jdp/PepGLAD/datasets/LNR/pdbs/3ro3.pdb\n",
      "Unknown residue HOH in /data/private/jdp/PepGLAD/datasets/LNR/pdbs/3ro3.pdb\n"
     ]
    },
    {
     "name": "stderr",
     "output_type": "stream",
     "text": [
      " 54%|█████▍    | 50/93 [00:03<00:03, 12.34it/s]"
     ]
    },
    {
     "name": "stdout",
     "output_type": "stream",
     "text": [
      "Unknown residue HOH in /data/private/jdp/PepGLAD/datasets/LNR/pdbs/4cu4.pdb\n",
      "Unknown residue HOH in /data/private/jdp/PepGLAD/datasets/LNR/pdbs/4cy3.pdb\n",
      "Unknown residue HOH in /data/private/jdp/PepGLAD/datasets/LNR/pdbs/4cy3.pdb\n",
      "Unknown residue HOH in /data/private/jdp/PepGLAD/datasets/LNR/pdbs/4cy3.pdb\n",
      "Unknown residue HOH in /data/private/jdp/PepGLAD/datasets/LNR/pdbs/4cy3.pdb\n",
      "Unknown residue HOH in /data/private/jdp/PepGLAD/datasets/LNR/pdbs/4cy3.pdb\n",
      "Unknown residue HOH in /data/private/jdp/PepGLAD/datasets/LNR/pdbs/4cy3.pdb\n",
      "Unknown residue HOH in /data/private/jdp/PepGLAD/datasets/LNR/pdbs/4cy3.pdb\n"
     ]
    },
    {
     "name": "stderr",
     "output_type": "stream",
     "text": [
      " 59%|█████▉    | 55/93 [00:04<00:03, 11.89it/s]"
     ]
    },
    {
     "name": "stdout",
     "output_type": "stream",
     "text": [
      "Unknown residue HOH in /data/private/jdp/PepGLAD/datasets/LNR/pdbs/4k0u.pdb\n"
     ]
    },
    {
     "name": "stderr",
     "output_type": "stream",
     "text": [
      " 61%|██████▏   | 57/93 [00:04<00:03, 11.89it/s]"
     ]
    },
    {
     "name": "stdout",
     "output_type": "stream",
     "text": [
      "Unknown residue SO4 in /data/private/jdp/PepGLAD/datasets/LNR/pdbs/4mn8.pdb\n",
      "Unknown residue HOH in /data/private/jdp/PepGLAD/datasets/LNR/pdbs/4piq.pdb\n",
      "Unknown residue HOH in /data/private/jdp/PepGLAD/datasets/LNR/pdbs/4piq.pdb\n",
      "Unknown residue HOH in /data/private/jdp/PepGLAD/datasets/LNR/pdbs/4piq.pdb\n",
      "Unknown residue HOH in /data/private/jdp/PepGLAD/datasets/LNR/pdbs/4piq.pdb\n",
      "Unknown residue HOH in /data/private/jdp/PepGLAD/datasets/LNR/pdbs/4piq.pdb\n",
      "Unknown residue HOH in /data/private/jdp/PepGLAD/datasets/LNR/pdbs/4piq.pdb\n",
      "Unknown residue HOH in /data/private/jdp/PepGLAD/datasets/LNR/pdbs/4piq.pdb\n",
      "Unknown residue HOH in /data/private/jdp/PepGLAD/datasets/LNR/pdbs/4rs9.pdb\n",
      "Unknown residue HOH in /data/private/jdp/PepGLAD/datasets/LNR/pdbs/4rs9.pdb\n",
      "Unknown residue HOH in /data/private/jdp/PepGLAD/datasets/LNR/pdbs/4rs9.pdb\n",
      "Unknown residue HOH in /data/private/jdp/PepGLAD/datasets/LNR/pdbs/4rs9.pdb\n",
      "Unknown residue HOH in /data/private/jdp/PepGLAD/datasets/LNR/pdbs/4rs9.pdb\n",
      "Unknown residue HOH in /data/private/jdp/PepGLAD/datasets/LNR/pdbs/4rs9.pdb\n",
      "Unknown residue HOH in /data/private/jdp/PepGLAD/datasets/LNR/pdbs/4rs9.pdb\n",
      "Unknown residue HOH in /data/private/jdp/PepGLAD/datasets/LNR/pdbs/4rs9.pdb\n"
     ]
    },
    {
     "name": "stderr",
     "output_type": "stream",
     "text": [
      " 66%|██████▌   | 61/93 [00:04<00:03, 10.36it/s]"
     ]
    },
    {
     "name": "stdout",
     "output_type": "stream",
     "text": [
      "Unknown residue HOH in /data/private/jdp/PepGLAD/datasets/LNR/pdbs/4tzm.pdb\n",
      "Unknown residue HOH in /data/private/jdp/PepGLAD/datasets/LNR/pdbs/4w50.pdb\n",
      "Unknown residue HOH in /data/private/jdp/PepGLAD/datasets/LNR/pdbs/4w50.pdb\n",
      "Unknown residue HOH in /data/private/jdp/PepGLAD/datasets/LNR/pdbs/4w50.pdb\n",
      "Unknown residue HOH in /data/private/jdp/PepGLAD/datasets/LNR/pdbs/4w50.pdb\n",
      "Unknown residue HOH in /data/private/jdp/PepGLAD/datasets/LNR/pdbs/4w50.pdb\n",
      "Unknown residue HOH in /data/private/jdp/PepGLAD/datasets/LNR/pdbs/4x3h.pdb\n",
      "Unknown residue HOH in /data/private/jdp/PepGLAD/datasets/LNR/pdbs/4x3h.pdb\n",
      "Unknown residue HOH in /data/private/jdp/PepGLAD/datasets/LNR/pdbs/4x3h.pdb\n",
      "Unknown residue HOH in /data/private/jdp/PepGLAD/datasets/LNR/pdbs/4x3h.pdb\n",
      "Unknown residue HOH in /data/private/jdp/PepGLAD/datasets/LNR/pdbs/4x3h.pdb\n"
     ]
    },
    {
     "name": "stderr",
     "output_type": "stream",
     "text": [
      " 69%|██████▉   | 64/93 [00:05<00:03,  8.41it/s]"
     ]
    },
    {
     "name": "stdout",
     "output_type": "stream",
     "text": [
      "Unknown residue HOH in /data/private/jdp/PepGLAD/datasets/LNR/pdbs/4xob.pdb\n",
      "Unknown residue HOH in /data/private/jdp/PepGLAD/datasets/LNR/pdbs/4xob.pdb\n",
      "Unknown residue HOH in /data/private/jdp/PepGLAD/datasets/LNR/pdbs/4z2o.pdb\n",
      "Unknown residue HOH in /data/private/jdp/PepGLAD/datasets/LNR/pdbs/4z2o.pdb\n",
      "Unknown residue HOH in /data/private/jdp/PepGLAD/datasets/LNR/pdbs/4z2o.pdb\n",
      "Unknown residue HOH in /data/private/jdp/PepGLAD/datasets/LNR/pdbs/4z2o.pdb\n",
      "Unknown residue HOH in /data/private/jdp/PepGLAD/datasets/LNR/pdbs/4z2o.pdb\n",
      "Unknown residue HOH in /data/private/jdp/PepGLAD/datasets/LNR/pdbs/4z2o.pdb\n",
      "Unknown residue HOH in /data/private/jdp/PepGLAD/datasets/LNR/pdbs/4z2o.pdb\n",
      "Unknown residue HOH in /data/private/jdp/PepGLAD/datasets/LNR/pdbs/4z2o.pdb\n",
      "Unknown residue SRT in /data/private/jdp/PepGLAD/datasets/LNR/pdbs/5a29.pdb\n",
      "Unknown residue SRT in /data/private/jdp/PepGLAD/datasets/LNR/pdbs/5a29.pdb\n",
      "Unknown residue HOH in /data/private/jdp/PepGLAD/datasets/LNR/pdbs/5a29.pdb\n",
      "Unknown residue HOH in /data/private/jdp/PepGLAD/datasets/LNR/pdbs/5a29.pdb\n",
      "Unknown residue HOH in /data/private/jdp/PepGLAD/datasets/LNR/pdbs/5a29.pdb\n",
      "Unknown residue HOH in /data/private/jdp/PepGLAD/datasets/LNR/pdbs/5a29.pdb\n",
      "Unknown residue HOH in /data/private/jdp/PepGLAD/datasets/LNR/pdbs/5a29.pdb\n",
      "Unknown residue HOH in /data/private/jdp/PepGLAD/datasets/LNR/pdbs/5a29.pdb\n",
      "Unknown residue HOH in /data/private/jdp/PepGLAD/datasets/LNR/pdbs/5a29.pdb\n"
     ]
    },
    {
     "name": "stderr",
     "output_type": "stream",
     "text": [
      " 75%|███████▌  | 70/93 [00:05<00:02, 10.18it/s]"
     ]
    },
    {
     "name": "stdout",
     "output_type": "stream",
     "text": [
      "Unknown residue HOH in /data/private/jdp/PepGLAD/datasets/LNR/pdbs/5l9b.pdb\n",
      "Unknown residue HOH in /data/private/jdp/PepGLAD/datasets/LNR/pdbs/5l9b.pdb\n",
      "Unknown residue HOH in /data/private/jdp/PepGLAD/datasets/LNR/pdbs/5l9b.pdb\n",
      "Unknown residue HOH in /data/private/jdp/PepGLAD/datasets/LNR/pdbs/5l9b.pdb\n",
      "Unknown residue HOH in /data/private/jdp/PepGLAD/datasets/LNR/pdbs/5l9b.pdb\n",
      "Unknown residue HOH in /data/private/jdp/PepGLAD/datasets/LNR/pdbs/5l9b.pdb\n",
      "Unknown residue HOH in /data/private/jdp/PepGLAD/datasets/LNR/pdbs/5l9b.pdb\n",
      "Unknown residue HOH in /data/private/jdp/PepGLAD/datasets/LNR/pdbs/5l9b.pdb\n",
      "Unknown residue HOH in /data/private/jdp/PepGLAD/datasets/LNR/pdbs/5l9b.pdb\n",
      "Unknown residue HOH in /data/private/jdp/PepGLAD/datasets/LNR/pdbs/5l9b.pdb\n",
      "Unknown residue HOH in /data/private/jdp/PepGLAD/datasets/LNR/pdbs/5l9b.pdb\n",
      "Unknown residue HOH in /data/private/jdp/PepGLAD/datasets/LNR/pdbs/5l9b.pdb\n",
      "Unknown residue HOH in /data/private/jdp/PepGLAD/datasets/LNR/pdbs/5l9b.pdb\n",
      "Unknown residue HOH in /data/private/jdp/PepGLAD/datasets/LNR/pdbs/5l9b.pdb\n",
      "Unknown residue HOH in /data/private/jdp/PepGLAD/datasets/LNR/pdbs/5l9b.pdb\n",
      "Unknown residue HOH in /data/private/jdp/PepGLAD/datasets/LNR/pdbs/5l9b.pdb\n",
      "Unknown residue HOH in /data/private/jdp/PepGLAD/datasets/LNR/pdbs/5n85.pdb\n",
      "Unknown residue HOH in /data/private/jdp/PepGLAD/datasets/LNR/pdbs/5n85.pdb\n",
      "Unknown residue HOH in /data/private/jdp/PepGLAD/datasets/LNR/pdbs/5n85.pdb\n"
     ]
    },
    {
     "name": "stderr",
     "output_type": "stream",
     "text": [
      " 86%|████████▌ | 80/93 [00:06<00:01, 11.14it/s]"
     ]
    },
    {
     "name": "stdout",
     "output_type": "stream",
     "text": [
      "Unknown residue HOH in /data/private/jdp/PepGLAD/datasets/LNR/pdbs/5yc2.pdb\n"
     ]
    },
    {
     "name": "stderr",
     "output_type": "stream",
     "text": [
      " 88%|████████▊ | 82/93 [00:06<00:00, 11.31it/s]"
     ]
    },
    {
     "name": "stdout",
     "output_type": "stream",
     "text": [
      "Unknown residue ACE in /data/private/jdp/PepGLAD/datasets/LNR/pdbs/6efk.pdb\n",
      "Unknown residue HOH in /data/private/jdp/PepGLAD/datasets/LNR/pdbs/6efk.pdb\n",
      "Unknown residue HOH in /data/private/jdp/PepGLAD/datasets/LNR/pdbs/6efk.pdb\n",
      "Unknown residue HOH in /data/private/jdp/PepGLAD/datasets/LNR/pdbs/6efk.pdb\n",
      "Unknown residue HOH in /data/private/jdp/PepGLAD/datasets/LNR/pdbs/6efk.pdb\n",
      "Unknown residue HOH in /data/private/jdp/PepGLAD/datasets/LNR/pdbs/6efk.pdb\n",
      "Unknown residue HOH in /data/private/jdp/PepGLAD/datasets/LNR/pdbs/6efk.pdb\n",
      "Unknown residue HOH in /data/private/jdp/PepGLAD/datasets/LNR/pdbs/6efk.pdb\n",
      "Unknown residue HOH in /data/private/jdp/PepGLAD/datasets/LNR/pdbs/6efk.pdb\n",
      "Unknown residue HOH in /data/private/jdp/PepGLAD/datasets/LNR/pdbs/6efk.pdb\n",
      "Unknown residue HOH in /data/private/jdp/PepGLAD/datasets/LNR/pdbs/6efk.pdb\n",
      "Unknown residue HOH in /data/private/jdp/PepGLAD/datasets/LNR/pdbs/6efk.pdb\n"
     ]
    },
    {
     "name": "stderr",
     "output_type": "stream",
     "text": [
      " 91%|█████████▏| 85/93 [00:07<00:00,  9.85it/s]"
     ]
    },
    {
     "name": "stdout",
     "output_type": "stream",
     "text": [
      "Unknown residue HOH in /data/private/jdp/PepGLAD/datasets/LNR/pdbs/6g86.pdb\n",
      "Unknown residue HOH in /data/private/jdp/PepGLAD/datasets/LNR/pdbs/6g86.pdb\n"
     ]
    },
    {
     "name": "stderr",
     "output_type": "stream",
     "text": [
      " 98%|█████████▊| 91/93 [00:08<00:00,  9.30it/s]"
     ]
    },
    {
     "name": "stdout",
     "output_type": "stream",
     "text": [
      "Unknown residue HOH in /data/private/jdp/PepGLAD/datasets/LNR/pdbs/6j0x.pdb\n",
      "Unknown residue HOH in /data/private/jdp/PepGLAD/datasets/LNR/pdbs/6j0x.pdb\n",
      "Unknown residue HOH in /data/private/jdp/PepGLAD/datasets/LNR/pdbs/6j0x.pdb\n",
      "Unknown residue HOH in /data/private/jdp/PepGLAD/datasets/LNR/pdbs/6j0x.pdb\n",
      "Unknown residue HOH in /data/private/jdp/PepGLAD/datasets/LNR/pdbs/6j0x.pdb\n",
      "Unknown residue HOH in /data/private/jdp/PepGLAD/datasets/LNR/pdbs/6n3e.pdb\n",
      "Unknown residue HOH in /data/private/jdp/PepGLAD/datasets/LNR/pdbs/6n3e.pdb\n",
      "Unknown residue HOH in /data/private/jdp/PepGLAD/datasets/LNR/pdbs/6n3e.pdb\n",
      "Unknown residue HOH in /data/private/jdp/PepGLAD/datasets/LNR/pdbs/6n3e.pdb\n",
      "Unknown residue HOH in /data/private/jdp/PepGLAD/datasets/LNR/pdbs/6n3e.pdb\n",
      "Unknown residue HOH in /data/private/jdp/PepGLAD/datasets/LNR/pdbs/6n3e.pdb\n",
      "Unknown residue HOH in /data/private/jdp/PepGLAD/datasets/LNR/pdbs/6n3e.pdb\n",
      "Unknown residue HOH in /data/private/jdp/PepGLAD/datasets/LNR/pdbs/6qg8.pdb\n",
      "Unknown residue HOH in /data/private/jdp/PepGLAD/datasets/LNR/pdbs/6qg8.pdb\n",
      "Unknown residue HOH in /data/private/jdp/PepGLAD/datasets/LNR/pdbs/6qg8.pdb\n",
      "Unknown residue HOH in /data/private/jdp/PepGLAD/datasets/LNR/pdbs/6qg8.pdb\n",
      "Unknown residue HOH in /data/private/jdp/PepGLAD/datasets/LNR/pdbs/6qg8.pdb\n",
      "Unknown residue HOH in /data/private/jdp/PepGLAD/datasets/LNR/pdbs/6qg8.pdb\n",
      "Unknown residue HOH in /data/private/jdp/PepGLAD/datasets/LNR/pdbs/6qg8.pdb\n"
     ]
    },
    {
     "name": "stderr",
     "output_type": "stream",
     "text": [
      "100%|██████████| 93/93 [00:08<00:00, 11.05it/s]"
     ]
    },
    {
     "name": "stdout",
     "output_type": "stream",
     "text": [
      "Unknown residue ACE in /data/private/jdp/PepGLAD/datasets/LNR/pdbs/6seo.pdb\n",
      "Unknown residue NH2 in /data/private/jdp/PepGLAD/datasets/LNR/pdbs/6seo.pdb\n",
      "Final amino acid counts: [1977, 1767, 940, 1384, 441, 1047, 1672, 1493, 480, 1284, 2302, 1698, 541, 875, 1536, 1718, 1163, 395, 781, 1207]\n"
     ]
    },
    {
     "name": "stderr",
     "output_type": "stream",
     "text": [
      "\n"
     ]
    }
   ],
   "source": [
    "\n",
    "import os\n",
    "from Bio.PDB import PDBParser\n",
    "import pandas as pd\n",
    "from tqdm import tqdm\n",
    "\n",
    "min_length = 13\n",
    "# 初始化氨基酸计数列表（假设有20种标准氨基酸）\n",
    "gt_condition_acid_list = [0] * 20\n",
    "amino_acid_map = {\n",
    "    'ALA': 1, 'ARG': 2, 'ASN': 3, 'ASP': 4, 'CYS': 5,\n",
    "    'GLN': 6, 'GLU': 7, 'GLY': 8, 'HIS': 9, 'ILE': 10,\n",
    "    'LEU': 11, 'LYS': 12, 'MET': 13, 'PHE': 14, 'PRO': 15,\n",
    "    'SER': 16, 'THR': 17, 'TRP': 18, 'TYR': 19, 'VAL': 20\n",
    "}\n",
    "\n",
    "file_path = '/data/private/jdp/PepGLAD/datasets/train_valid/all.txt'\n",
    "df = pd.read_csv(file_path, sep='\\t', header=None, names=['index', 'protein_id', 'peptide_id', 'label'])\n",
    "df.set_index('index', inplace=True)\n",
    "\n",
    "# 筛选 label 为 0 的行\n",
    "df = df[df['label'] == 0]\n",
    "for idx in tqdm(df.index):\n",
    "    peptide_path = os.path.join('/data/private/jdp/PepGLAD/datasets/train_valid/pdbs', idx + '.pdb')\n",
    "    if not os.path.exists(peptide_path):\n",
    "        print(f\"File not found: {peptide_path}\")\n",
    "        continue\n",
    "    parser = PDBParser(QUIET=True)\n",
    "    try:\n",
    "        structure = parser.get_structure('peptide', peptide_path)\n",
    "    except Exception as e:\n",
    "        print(f\"Error parsing {peptide_path}: {e}\")\n",
    "        continue\n",
    "    peptide_id = df.loc[idx, 'peptide_id']\n",
    "    try:\n",
    "        chain = structure[0][peptide_id]\n",
    "    except KeyError:\n",
    "        print(f\"Chain {peptide_id} not found in {peptide_path}\")\n",
    "        continue\n",
    "\n",
    "    residues = list(chain.get_residues())\n",
    "\n",
    "    if len(residues) < min_length:\n",
    "        continue\n",
    "\n",
    "    for res in residues:\n",
    "        resname = res.get_resname() \n",
    "        if resname in amino_acid_map:\n",
    "            gt_condition_acid_list[amino_acid_map[resname] - 1] += 1\n",
    "        else:\n",
    "            print(f\"Unknown residue {resname} in {peptide_path}\")\n",
    "\n",
    "file_path = '/data/private/jdp/PepGLAD/datasets/LNR/test.txt'\n",
    "df = pd.read_csv(file_path, sep='\\t', header=None, names=['index', 'protein_id', 'peptide_id', 'label'])\n",
    "df.set_index('index', inplace=True)\n",
    "\n",
    "# 筛选 label 为 0 的行\n",
    "df = df[df['label'] == 0]\n",
    "for idx in tqdm(df.index):\n",
    "    peptide_path = os.path.join('/data/private/jdp/PepGLAD/datasets/LNR/pdbs', idx + '.pdb')\n",
    "    if not os.path.exists(peptide_path):\n",
    "        print(f\"File not found: {peptide_path}\")\n",
    "        continue\n",
    "    parser = PDBParser(QUIET=True)\n",
    "    try:\n",
    "        structure = parser.get_structure('peptide', peptide_path)\n",
    "    except Exception as e:\n",
    "        print(f\"Error parsing {peptide_path}: {e}\")\n",
    "        continue\n",
    "    peptide_id = df.loc[idx, 'peptide_id']\n",
    "    try:\n",
    "        chain = structure[0][peptide_id]\n",
    "    except KeyError:\n",
    "        print(f\"Chain {peptide_id} not found in {peptide_path}\")\n",
    "        continue\n",
    "\n",
    "    residues = list(chain.get_residues())\n",
    "\n",
    "    if len(residues) < min_length:\n",
    "        continue\n",
    "\n",
    "    for res in residues:\n",
    "        resname = res.get_resname() \n",
    "        if resname in amino_acid_map:\n",
    "            gt_condition_acid_list[amino_acid_map[resname] - 1] += 1\n",
    "        else:\n",
    "            print(f\"Unknown residue {resname} in {peptide_path}\")\n",
    "print(\"Final amino acid counts:\", gt_condition_acid_list)\n",
    "\n",
    "    \n",
    "\n",
    "    "
   ]
  },
  {
   "cell_type": "code",
   "execution_count": 32,
   "metadata": {},
   "outputs": [
    {
     "name": "stdout",
     "output_type": "stream",
     "text": [
      "1.2677048442060763\n"
     ]
    }
   ],
   "source": [
    "#Calculate the KL acid type\n",
    "min_length = 13\n",
    "import numpy as np\n",
    "amino_acid_map = {\n",
    "    'A': 1,  # Alanine\n",
    "    'R': 2,  # Arginine\n",
    "    'N': 3,  # Asparagine\n",
    "    'D': 4,  # Aspartic acid\n",
    "    'C': 5,  # Cysteine\n",
    "    'E': 6,  # Glutamic acid\n",
    "    'Q': 7,  # Glutamine\n",
    "    'G': 8,  # Glycine\n",
    "    'H': 9,  # Histidine\n",
    "    'I': 10, # Isoleucine\n",
    "    'L': 11, # Leucine\n",
    "    'K': 12, # Lysine\n",
    "    'M': 13, # Methionine\n",
    "    'F': 14, # Phenylalanine\n",
    "    'P': 15, # Proline\n",
    "    'S': 16, # Serine\n",
    "    'T': 17, # Threonine\n",
    "    'W': 18, # Tryptophan\n",
    "    'Y': 19, # Tyrosine\n",
    "    'V': 20  # Valine\n",
    "}\n",
    "def kl_divergence(P, Q):\n",
    "    # 归一化\n",
    "    P = np.array(P) / np.sum(P)\n",
    "    Q = np.array(Q) / np.sum(Q)\n",
    "    \n",
    "    # 确保Q中没有零值\n",
    "    epsilon = 1e-10\n",
    "    P = P + epsilon\n",
    "    Q = Q + epsilon\n",
    "    \n",
    "    # 计算KL散度\n",
    "    return np.sum(P * np.log(P / Q))\n",
    "\n",
    "condition_acid_list = [0]*20\n",
    "import json\n",
    "import numpy as np\n",
    "import os\n",
    "from Bio.PDB import PDBParser\n",
    "import mdtraj as md\n",
    "condition_directory = '/home/jiangdapeng/PepGLAD/results/condition4_w10_5samples/results.jsonl'\n",
    "with open(condition_directory, 'r', encoding='utf-8') as f:\n",
    "    for line in f:\n",
    "        # 跳过空行\n",
    "        if line.strip():\n",
    "            # 将每行解析为 JSON 对象\n",
    "            json_object = json.loads(line)\n",
    "            id = json_object['id']\n",
    "            peptide_path = json_object['gen_pdb']\n",
    "            peptide_path = os.path.join('..',peptide_path)\n",
    "            peptide = json_object['gen_seq']\n",
    "            parser = PDBParser(QUIET=True)\n",
    "            structure = parser.get_structure('peptide', peptide_path)\n",
    "            chain = structure[0][json_object['lig_chain']]  # 假设只取第一个模型和指定的链\n",
    "            residues = list(chain.get_residues())\n",
    "            if len(peptide)<min_length:\n",
    "                continue\n",
    "            for acid in peptide:\n",
    "                condition_acid_list[amino_acid_map[acid]-1]+=1\n",
    "\n",
    "gt1_condition_acid_list = [x for i, x in enumerate(gt_condition_acid_list) if i not in {4}]\n",
    "condition1_acid_list = [x for i, x in enumerate(condition_acid_list) if i not in {4}]\n",
    "kl_div = kl_divergence(gt1_condition_acid_list, condition1_acid_list)\n",
    "\n",
    "print(kl_div)"
   ]
  }
 ],
 "metadata": {
  "kernelspec": {
   "display_name": "PepGLAD",
   "language": "python",
   "name": "python3"
  },
  "language_info": {
   "codemirror_mode": {
    "name": "ipython",
    "version": 3
   },
   "file_extension": ".py",
   "mimetype": "text/x-python",
   "name": "python",
   "nbconvert_exporter": "python",
   "pygments_lexer": "ipython3",
   "version": "3.9.19"
  }
 },
 "nbformat": 4,
 "nbformat_minor": 2
}
